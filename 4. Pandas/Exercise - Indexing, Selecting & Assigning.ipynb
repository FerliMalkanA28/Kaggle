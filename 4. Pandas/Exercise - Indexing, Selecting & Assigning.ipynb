{
  "nbformat": 4,
  "nbformat_minor": 0,
  "metadata": {
    "colab": {
      "provenance": []
    },
    "kernelspec": {
      "name": "python3",
      "display_name": "Python 3"
    },
    "language_info": {
      "name": "python"
    }
  },
  "cells": [
    {
      "cell_type": "markdown",
      "source": [
        "# **Exercise: Indexing, Selecting & Assigning**"
      ],
      "metadata": {
        "id": "YDxBzUgJZGs9"
      }
    },
    {
      "cell_type": "markdown",
      "source": [
        "**This notebook is an exercise in the [Pandas](https://www.kaggle.com/learn/pandas) course.  You can reference the tutorial at [this link](https://www.kaggle.com/residentmario/indexing-selecting-assigning).**\n",
        "\n",
        "---\n"
      ],
      "metadata": {
        "id": "uFZwyUI6DWBy"
      }
    },
    {
      "cell_type": "markdown",
      "source": [
        "# Introduction\n",
        "\n",
        "In this set of exercises we will work with the [Wine Reviews dataset](https://www.kaggle.com/zynicide/wine-reviews). "
      ],
      "metadata": {
        "id": "LCEdxJ9pDYlC"
      }
    },
    {
      "cell_type": "markdown",
      "source": [
        "Run the following cell to load your data and some utility functions (including code to check your answers)."
      ],
      "metadata": {
        "id": "GMoLznyTDeLZ"
      }
    },
    {
      "cell_type": "code",
      "source": [
        "import pandas as pd\n",
        "\n",
        "reviews = pd.read_csv(\"../input/wine-reviews/winemag-data-130k-v2.csv\", index_col=0)\n",
        "pd.set_option(\"display.max_rows\", 5)\n",
        "\n",
        "from learntools.core import binder; binder.bind(globals())\n",
        "from learntools.pandas.indexing_selecting_and_assigning import *\n",
        "print(\"Setup complete.\")"
      ],
      "metadata": {
        "id": "ZVynyPmHDcBH"
      },
      "execution_count": null,
      "outputs": []
    },
    {
      "cell_type": "markdown",
      "source": [
        "Look at an overview of your data by running the following line."
      ],
      "metadata": {
        "id": "FDvAa1njDjg-"
      }
    },
    {
      "cell_type": "code",
      "source": [
        "reviews.head()"
      ],
      "metadata": {
        "id": "3mLyXxHbDj6c"
      },
      "execution_count": null,
      "outputs": []
    },
    {
      "cell_type": "markdown",
      "source": [
        "# Exercises"
      ],
      "metadata": {
        "id": "syGS3YsWDnx2"
      }
    },
    {
      "cell_type": "markdown",
      "source": [
        "## 1.\n",
        "\n",
        "Select the `description` column from `reviews` and assign the result to the variable `desc`."
      ],
      "metadata": {
        "id": "dqri0me-DoMP"
      }
    },
    {
      "cell_type": "code",
      "source": [
        "# Your code here\n",
        "desc = reviews.description\n",
        "\n",
        "# Check your answer\n",
        "q1.check()"
      ],
      "metadata": {
        "id": "AqrkPgK_DqyU"
      },
      "execution_count": null,
      "outputs": []
    },
    {
      "cell_type": "markdown",
      "source": [
        "Follow-up question: what type of object is `desc`? If you're not sure, you can check by calling Python's `type` function: `type(desc)`."
      ],
      "metadata": {
        "id": "nswT0nVdDsim"
      }
    },
    {
      "cell_type": "code",
      "source": [
        "#q1.hint()\n",
        "#q1.solution()"
      ],
      "metadata": {
        "id": "vbJrpIGCDuZp"
      },
      "execution_count": null,
      "outputs": []
    },
    {
      "cell_type": "markdown",
      "source": [
        "## 2.\n",
        "\n",
        "Select the first value from the description column of `reviews`, assigning it to variable `first_description`."
      ],
      "metadata": {
        "id": "Qa-yd60nDv_G"
      }
    },
    {
      "cell_type": "code",
      "source": [
        "first_description = reviews.description[0]\n",
        "\n",
        "# Check your answer\n",
        "q2.check()\n",
        "first_description"
      ],
      "metadata": {
        "id": "hbfhjGhUDwgQ"
      },
      "execution_count": null,
      "outputs": []
    },
    {
      "cell_type": "code",
      "source": [
        "#q2.hint()\n",
        "#q2.solution()"
      ],
      "metadata": {
        "id": "5RAG7gm-ECoC"
      },
      "execution_count": null,
      "outputs": []
    },
    {
      "cell_type": "markdown",
      "source": [
        "## 3. \n",
        "\n",
        "Select the first row of data (the first record) from `reviews`, assigning it to the variable `first_row`."
      ],
      "metadata": {
        "id": "zZtACCqxEKAO"
      }
    },
    {
      "cell_type": "code",
      "source": [
        "first_row = reviews.iloc[0]\n",
        "\n",
        "# Check your answer\n",
        "q3.check()\n",
        "first_row"
      ],
      "metadata": {
        "id": "Y5qMBei9EMyC"
      },
      "execution_count": null,
      "outputs": []
    },
    {
      "cell_type": "code",
      "source": [
        "#q3.hint()\n",
        "#q3.solution()"
      ],
      "metadata": {
        "id": "iqU68l6uETsw"
      },
      "execution_count": null,
      "outputs": []
    },
    {
      "cell_type": "markdown",
      "source": [
        "## 4.\n",
        "\n",
        "Select the first 10 values from the `description` column in `reviews`, assigning the result to variable `first_descriptions`.\n",
        "\n",
        "Hint: format your output as a pandas Series."
      ],
      "metadata": {
        "id": "-rQYoeNwEUmi"
      }
    },
    {
      "cell_type": "code",
      "source": [
        "first_descriptions = reviews.iloc[:10, 1]\n",
        "\n",
        "# Check your answer\n",
        "q4.check()\n",
        "first_descriptions"
      ],
      "metadata": {
        "id": "ttPIU2xREaf3"
      },
      "execution_count": null,
      "outputs": []
    },
    {
      "cell_type": "code",
      "source": [
        "#q4.hint()\n",
        "#q4.solution()"
      ],
      "metadata": {
        "id": "jSop6xP2EcgD"
      },
      "execution_count": null,
      "outputs": []
    },
    {
      "cell_type": "markdown",
      "source": [
        "## 5.\n",
        "\n",
        "Select the records with index labels `1`, `2`, `3`, `5`, and `8`, assigning the result to the variable `sample_reviews`.\n",
        "\n",
        "In other words, generate the following DataFrame:\n",
        "\n",
        "![](https://i.imgur.com/sHZvI1O.png)"
      ],
      "metadata": {
        "id": "fD674dAZFDn7"
      }
    },
    {
      "cell_type": "code",
      "source": [
        "indexes = [1, 2, 3, 5, 8]\n",
        "sample_reviews = reviews.loc[indexes]\n",
        "\n",
        "# Check your answer\n",
        "q5.check()\n",
        "sample_reviews"
      ],
      "metadata": {
        "id": "lgl-BPzEFFpJ"
      },
      "execution_count": null,
      "outputs": []
    },
    {
      "cell_type": "code",
      "source": [
        "# q5.hint()\n",
        "# q5.solution()"
      ],
      "metadata": {
        "id": "sTJqvPqVFHj2"
      },
      "execution_count": null,
      "outputs": []
    },
    {
      "cell_type": "markdown",
      "source": [
        "## 6.\n",
        "\n",
        "Create a variable `df` containing the `country`, `province`, `region_1`, and `region_2` columns of the records with the index labels `0`, `1`, `10`, and `100`. In other words, generate the following DataFrame:\n",
        "\n",
        "![](https://i.imgur.com/FUCGiKP.png)"
      ],
      "metadata": {
        "id": "Aau8Y3yhFKD7"
      }
    },
    {
      "cell_type": "code",
      "source": [
        "cols = ['country', 'province', 'region_1', 'region_2']\n",
        "indexes = [0, 1, 10, 100]\n",
        "df = reviews.loc[indexes, cols]\n",
        "\n",
        "# Check your answer\n",
        "q6.check()\n",
        "df"
      ],
      "metadata": {
        "id": "PL26rGXiFMnT"
      },
      "execution_count": null,
      "outputs": []
    },
    {
      "cell_type": "code",
      "source": [
        "# q6.hint()\n",
        "# q6.solution()"
      ],
      "metadata": {
        "id": "sr7GSdynFOdQ"
      },
      "execution_count": null,
      "outputs": []
    },
    {
      "cell_type": "markdown",
      "source": [
        "## 7.\n",
        "\n",
        "Create a variable `df` containing the `country` and `variety` columns of the first 100 records. \n",
        "\n",
        "Hint: you may use `loc` or `iloc`. When working on the answer this question and the several of the ones that follow, keep the following \"gotcha\" described in the tutorial:\n",
        "\n",
        "> `iloc` uses the Python stdlib indexing scheme, where the first element of the range is included and the last one excluded. \n",
        "`loc`, meanwhile, indexes inclusively. \n",
        "\n",
        "> This is particularly confusing when the DataFrame index is a simple numerical list, e.g. `0,...,1000`. In this case `df.iloc[0:1000]` will return 1000 entries, while `df.loc[0:1000]` return 1001 of them! To get 1000 elements using `loc`, you will need to go one lower and ask for `df.iloc[0:999]`. "
      ],
      "metadata": {
        "id": "KMQoVdCdFQIS"
      }
    },
    {
      "cell_type": "code",
      "source": [
        "cols = ['country', 'variety']\n",
        "df = reviews.loc[:99, cols]\n",
        "\n",
        "# Check your answer\n",
        "q7.check()\n",
        "df"
      ],
      "metadata": {
        "id": "j6Hxczy-FRjZ"
      },
      "execution_count": null,
      "outputs": []
    },
    {
      "cell_type": "code",
      "source": [
        "# q7.hint()\n",
        "# q7.solution()"
      ],
      "metadata": {
        "id": "gA8DPaZEFTYI"
      },
      "execution_count": null,
      "outputs": []
    },
    {
      "cell_type": "markdown",
      "source": [
        "## 8.\n",
        "\n",
        "Create a DataFrame `italian_wines` containing reviews of wines made in `Italy`. Hint: `reviews.country` equals what?"
      ],
      "metadata": {
        "id": "2NVfEM_aFVvU"
      }
    },
    {
      "cell_type": "code",
      "source": [
        "italian_wines = reviews.loc[reviews.country == \"Italy\"]\n",
        "\n",
        "# Check your answer\n",
        "q8.check()"
      ],
      "metadata": {
        "id": "EyOONScIFWaR"
      },
      "execution_count": null,
      "outputs": []
    },
    {
      "cell_type": "code",
      "source": [
        "#q8.hint()\n",
        "#q8.solution()"
      ],
      "metadata": {
        "id": "Wpse1QikFjSN"
      },
      "execution_count": null,
      "outputs": []
    },
    {
      "cell_type": "markdown",
      "source": [
        "## 9.\n",
        "\n",
        "Create a DataFrame `top_oceania_wines` containing all reviews with at least 95 points (out of 100) for wines from Australia or New Zealand."
      ],
      "metadata": {
        "id": "a--v-pLBFlyf"
      }
    },
    {
      "cell_type": "code",
      "source": [
        "top_oceania_wines = reviews.loc[(reviews.country.isin(['Australia', 'New Zealand'])) & (reviews.points >= 95)]\n",
        "\n",
        "# Check your answer\n",
        "q9.check()\n",
        "top_oceania_wines"
      ],
      "metadata": {
        "id": "mLe4_3s_F8Gh"
      },
      "execution_count": null,
      "outputs": []
    },
    {
      "cell_type": "code",
      "source": [
        "#q9.hint()\n",
        "# q9.solution()"
      ],
      "metadata": {
        "id": "1N5M7YudF9vp"
      },
      "execution_count": null,
      "outputs": []
    },
    {
      "cell_type": "markdown",
      "source": [
        "# Keep going\n",
        "\n",
        "Move on to learn about **[summary functions and maps](https://www.kaggle.com/residentmario/summary-functions-and-maps)**."
      ],
      "metadata": {
        "id": "Yz3K9shDGAD0"
      }
    },
    {
      "cell_type": "markdown",
      "source": [
        "---\n",
        "\n",
        "\n",
        "\n",
        "\n",
        "*Have questions or comments? Visit the [course discussion forum](https://www.kaggle.com/learn/pandas/discussion) to chat with other learners.*"
      ],
      "metadata": {
        "id": "Ki6evyjyGB2f"
      }
    }
  ]
}