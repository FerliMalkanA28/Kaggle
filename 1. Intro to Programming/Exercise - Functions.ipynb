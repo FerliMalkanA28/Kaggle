{
  "nbformat": 4,
  "nbformat_minor": 0,
  "metadata": {
    "colab": {
      "provenance": []
    },
    "kernelspec": {
      "name": "python3",
      "display_name": "Python 3"
    },
    "language_info": {
      "name": "python"
    }
  },
  "cells": [
    {
      "cell_type": "markdown",
      "source": [
        "# **Exercise: Functions**"
      ],
      "metadata": {
        "id": "fUZQJ02B6Py5"
      }
    },
    {
      "cell_type": "markdown",
      "source": [
        "In the tutorial, you learned about functions. In this exercise, you'll write some of your own!\n",
        "\n",
        "# Set up the notebook\n",
        "\n",
        "Run the next code cell without changes to set up the notebook."
      ],
      "metadata": {
        "id": "xyfkOu5yA1PI"
      }
    },
    {
      "cell_type": "code",
      "source": [
        "# Set up the exercise\n",
        "import math\n",
        "from learntools.core import binder\n",
        "binder.bind(globals())\n",
        "from learntools.intro_to_programming.ex2 import *\n",
        "print('Setup complete.')"
      ],
      "metadata": {
        "id": "gTZ-oe_4A42_"
      },
      "execution_count": null,
      "outputs": []
    },
    {
      "cell_type": "markdown",
      "source": [
        "# Question 1\n",
        "\n",
        "In the [House Prices - Advanced Regression Techniques competition](https://www.kaggle.com/c/house-prices-advanced-regression-techniques/overview), you need to use information like the number of bedrooms and bathrooms to predict the price of a house.  Inspired by this competition, you'll write your own function to do this.\n",
        "\n",
        "In the next code cell, create a function `get_expected_cost()` that has two arguments:\n",
        "- `beds` - number of bedrooms \n",
        "- `baths` - number of bathrooms\n",
        "\n",
        "It should return the expected cost of a house with that number of bedrooms and bathrooms.  Assume that:\n",
        "- the expected cost for a house with 0 bedrooms and 0 bathrooms is `80000`.  \n",
        "- each bedroom adds `30000` to the expected cost\n",
        "- each bathroom adds `10000` to the expected cost.\n",
        "\n",
        "For instance, \n",
        "- a house with 1 bedroom and 1 bathroom has an expected cost of `120000`, and \n",
        "- a house with 2 bedrooms and 1 bathroom has an expected cost of `150000`."
      ],
      "metadata": {
        "id": "RKfEeBoxA4FL"
      }
    },
    {
      "cell_type": "code",
      "source": [
        "# TODO: Complete the function\n",
        "def get_expected_cost(beds, baths):\n",
        "    value = 80000 + 30000 * beds + 10000 * baths\n",
        "    return value\n",
        "\n",
        "# Check your answer \n",
        "q1.check()"
      ],
      "metadata": {
        "id": "nr0zj26pA9on"
      },
      "execution_count": null,
      "outputs": []
    },
    {
      "cell_type": "code",
      "source": [
        "# Uncomment to see a hint\n",
        "# q1.hint()\n",
        "\n",
        "# Uncomment to view the solution\n",
        "# q1.solution()"
      ],
      "metadata": {
        "id": "ZDcraleCBAcb"
      },
      "execution_count": null,
      "outputs": []
    },
    {
      "cell_type": "markdown",
      "source": [
        "# Question 2\n",
        "\n",
        "You are thinking about buying a home and want to get an idea of how much you will spend, based on the number of bedrooms and bathrooms.  You are trying to decide between four different options:\n",
        "- Option 1: house with two bedrooms and three bathrooms\n",
        "- Option 2: house with three bedrooms and two bathrooms\n",
        "- Option 3: house with three bedrooms and three bathrooms\n",
        "- Option 4: house with three bedrooms and four bathrooms\n",
        "\n",
        "Use the `get_expected_cost()` function you defined in question 1 to set `option_1`, `option_2`, `option_3`, and `option_4` to the expected cost of each option."
      ],
      "metadata": {
        "id": "cF-6WHDeBA53"
      }
    },
    {
      "cell_type": "code",
      "source": [
        "# TODO: Use the get_expected_cost function to fill in each value\n",
        "option_one = get_expected_cost(2,3)\n",
        "option_two = get_expected_cost(3,2)\n",
        "option_three = get_expected_cost(3,3)\n",
        "option_four = get_expected_cost(3,4)\n",
        "\n",
        "print(option_one)\n",
        "print(option_two)\n",
        "print(option_three)\n",
        "print(option_four)\n",
        "\n",
        "# Check your answer\n",
        "q2.check()"
      ],
      "metadata": {
        "id": "pllKxvk9BEaB"
      },
      "execution_count": null,
      "outputs": []
    },
    {
      "cell_type": "code",
      "source": [
        "# Uncomment to see a hint\n",
        "#q2.hint()\n",
        "\n",
        "# Uncomment to view the solution\n",
        "#q2.solution()"
      ],
      "metadata": {
        "id": "AwXLJh5oBHRj"
      },
      "execution_count": null,
      "outputs": []
    },
    {
      "cell_type": "markdown",
      "source": [
        "# Question 3\n",
        "\n",
        "You're a home decorator, and you'd like to use Python to streamline some of your work.  Specifically, you're creating a tool that you intend to use to calculate the cost of painting a room.\n",
        "\n",
        "As a first step, define a function `get_cost()` that takes as input:\n",
        "- `sqft_walls` = total square feet of walls to be painted\n",
        "- `sqft_ceiling` = square feet of ceiling to be painted\n",
        "- `sqft_per_gallon` = number of square feet that you can cover with one gallon of paint\n",
        "- `cost_per_gallon` = cost (in dollars) of one gallon of paint\n",
        "\n",
        "It should return the cost (in dollars) of putting one coat of paint on all walls and the ceiling.  Assume you can buy the exact amount of paint that you need, so you can buy partial gallons (e.g., if you need 7.523 gallons, you can buy that exact amount, instead of needing to buy 8 gallons and waste some paint).  Do not round your answer."
      ],
      "metadata": {
        "id": "klGrmjYeBFyj"
      }
    },
    {
      "cell_type": "code",
      "source": [
        "# TODO: Finish defining the function\n",
        "def get_cost(sqft_walls, sqft_ceiling, sqft_per_gallon, cost_per_gallon):\n",
        "    total_sqft = sqft_walls + sqft_ceiling\n",
        "    gallons_needed = total_sqft / sqft_per_gallon\n",
        "    cost = cost_per_gallon * gallons_needed\n",
        "    return cost\n",
        "\n",
        "# Check your answer\n",
        "q3.check()"
      ],
      "metadata": {
        "id": "UlaJeeZiBKPj"
      },
      "execution_count": null,
      "outputs": []
    },
    {
      "cell_type": "code",
      "source": [
        "# Uncomment to see a hint\n",
        "# q3.hint()\n",
        "\n",
        "# Uncomment to view the solution\n",
        "# q3.solution()"
      ],
      "metadata": {
        "id": "fPzFMNHUBMRH"
      },
      "execution_count": null,
      "outputs": []
    },
    {
      "cell_type": "markdown",
      "source": [
        "# Question 4\n",
        "\n",
        "Use the `get_cost()` function you defined in Question 3 to calculate the cost of applying one coat of paint to a room with:\n",
        "- 432 square feet of walls, and\n",
        "- 144 square feet of ceiling.\n",
        "\n",
        "Assume that one gallon of paint covers 400 square feet and costs $15.  As in Question 3, assume you can buy partial gallons of paint.  Do not round your answer."
      ],
      "metadata": {
        "id": "1Gk1owSmBOeT"
      }
    },
    {
      "cell_type": "code",
      "source": [
        "# TODO: Set the project_cost variable to the cost of the project\n",
        "project_cost = get_cost(432, 144, 400, 15)\n",
        "\n",
        "# Check your answer\n",
        "q4.check()"
      ],
      "metadata": {
        "id": "R4XG8Yc1BO9t"
      },
      "execution_count": null,
      "outputs": []
    },
    {
      "cell_type": "code",
      "source": [
        "# Uncomment to see a hint\n",
        "#q4.hint()\n",
        "\n",
        "# Uncomment to view the solution\n",
        "#q4.solution()"
      ],
      "metadata": {
        "id": "jhxqRPaqBQnd"
      },
      "execution_count": null,
      "outputs": []
    },
    {
      "cell_type": "markdown",
      "source": [
        "# 🌶️ Question 5\n",
        "\n",
        "Now say you can no longer buy fractions of a gallon.  (For instance, if you need 4.3 gallons to do a project, then you have to buy 5 gallons of paint.)\n",
        "\n",
        "With this new scenario, you will create a new function `get_actual_cost` that uses the same inputs and calculates the cost of your project.\n",
        "\n",
        "One function that you'll need to use to do this is `math.ceil()`.  We demonstrate usage of this function in the code cell below.  It takes as a number as input and rounds the number up to the nearest integer.  \n",
        "\n",
        "Run the next code cell to test this function for yourself.  Feel free to change the value of `test_value` and make sure `math.ceil()` returns the number you expect."
      ],
      "metadata": {
        "id": "MIol_qIyBRrZ"
      }
    },
    {
      "cell_type": "code",
      "source": [
        "test_value = 2.17\n",
        "\n",
        "rounded_value = math.ceil(test_value)\n",
        "print(rounded_value)"
      ],
      "metadata": {
        "id": "gg7Pv1SuBUSd"
      },
      "execution_count": null,
      "outputs": []
    },
    {
      "cell_type": "code",
      "source": [
        "def get_actual_cost(sqft_walls, sqft_ceiling, sqft_per_gallon, cost_per_gallon):\n",
        "    total_sqft = sqft_walls + sqft_ceiling\n",
        "    gallons_needed = total_sqft / sqft_per_gallon\n",
        "    gallons_to_buy = math.ceil(gallons_needed)\n",
        "    cost = cost_per_gallon * gallons_to_buy\n",
        "    return cost\n",
        "\n",
        "# Check your answer\n",
        "q5.check()"
      ],
      "metadata": {
        "id": "v6chBewzBW2F"
      },
      "execution_count": null,
      "outputs": []
    },
    {
      "cell_type": "code",
      "source": [
        "# Uncomment to see a hint\n",
        "# q5.hint()\n",
        "\n",
        "# Uncomment to view the solution\n",
        "# q5.solution()"
      ],
      "metadata": {
        "id": "SnffLDb5BYH1"
      },
      "execution_count": null,
      "outputs": []
    },
    {
      "cell_type": "code",
      "source": [
        "get_actual_cost(432, 144, 400, 15) "
      ],
      "metadata": {
        "id": "rFCKOj4QBZS1"
      },
      "execution_count": null,
      "outputs": []
    },
    {
      "cell_type": "code",
      "source": [
        "get_actual_cost(594, 288, 400, 15) "
      ],
      "metadata": {
        "id": "rFD58Ij_Ba1n"
      },
      "execution_count": null,
      "outputs": []
    }
  ]
}