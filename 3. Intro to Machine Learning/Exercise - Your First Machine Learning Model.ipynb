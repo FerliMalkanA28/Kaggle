{
  "nbformat": 4,
  "nbformat_minor": 0,
  "metadata": {
    "colab": {
      "provenance": []
    },
    "kernelspec": {
      "name": "python3",
      "display_name": "Python 3"
    },
    "language_info": {
      "name": "python"
    }
  },
  "cells": [
    {
      "cell_type": "markdown",
      "source": [
        "# **Exercise: Your First Machine Learning Model**\n",
        "\n"
      ],
      "metadata": {
        "id": "fUZQJ02B6Py5"
      }
    },
    {
      "cell_type": "markdown",
      "source": [],
      "metadata": {
        "id": "6xMPTv78fhMy"
      }
    },
    {
      "cell_type": "markdown",
      "source": [
        "**This notebook is an exercise in the [Introduction to Machine Learning](https://www.kaggle.com/learn/intro-to-machine-learning) course.  You can reference the tutorial at [this link](https://www.kaggle.com/dansbecker/your-first-machine-learning-model).**\n",
        "\n",
        "---\n"
      ],
      "metadata": {
        "id": "DXh80mUNfhNu"
      }
    },
    {
      "cell_type": "markdown",
      "source": [
        "## Recap\n",
        "So far, you have loaded your data and reviewed it with the following code. Run this cell to set up your coding environment where the previous step left off."
      ],
      "metadata": {
        "id": "UyAWG6cOfhqr"
      }
    },
    {
      "cell_type": "code",
      "source": [
        "# Code you have previously used to load data\n",
        "import pandas as pd\n",
        "\n",
        "# Path of the file to read\n",
        "iowa_file_path = '../input/home-data-for-ml-course/train.csv'\n",
        "\n",
        "home_data = pd.read_csv(iowa_file_path)\n",
        "\n",
        "# Set up code checking\n",
        "from learntools.core import binder\n",
        "binder.bind(globals())\n",
        "from learntools.machine_learning.ex3 import *\n",
        "\n",
        "print(\"Setup Complete\")"
      ],
      "metadata": {
        "id": "dyvaJC3DflBR"
      },
      "execution_count": null,
      "outputs": []
    },
    {
      "cell_type": "markdown",
      "source": [
        "# Exercises\n",
        "\n",
        "## Step 1: Specify Prediction Target\n",
        "Select the target variable, which corresponds to the sales price. Save this to a new variable called `y`. You'll need to print a list of the columns to find the name of the column you need.\n"
      ],
      "metadata": {
        "id": "J24gAqn7fmcr"
      }
    },
    {
      "cell_type": "code",
      "source": [
        "# print the list of columns in the dataset to find the name of the prediction target\n",
        "print(home_data.columns)"
      ],
      "metadata": {
        "id": "tHHzske0fnK7"
      },
      "execution_count": null,
      "outputs": []
    },
    {
      "cell_type": "code",
      "source": [
        "y = home_data.SalePrice\n",
        "\n",
        "# Check your answer\n",
        "step_1.check()"
      ],
      "metadata": {
        "id": "96GEXfY51uUk"
      },
      "execution_count": null,
      "outputs": []
    },
    {
      "cell_type": "code",
      "source": [
        "# The lines below will show you a hint or the solution.\n",
        "# step_1.hint() \n",
        "# step_1.solution()"
      ],
      "metadata": {
        "id": "4ta9n0cW1vfX"
      },
      "execution_count": null,
      "outputs": []
    },
    {
      "cell_type": "markdown",
      "source": [
        "## Step 2: Create X\n",
        "Now you will create a DataFrame called `X` holding the predictive features.\n",
        "\n",
        "Since you want only some columns from the original data, you'll first create a list with the names of the columns you want in `X`.\n",
        "\n",
        "You'll use just the following columns in the list (you can copy and paste the whole list to save some typing, though you'll still need to add quotes):\n",
        "  * LotArea\n",
        "  * YearBuilt\n",
        "  * 1stFlrSF\n",
        "  * 2ndFlrSF\n",
        "  * FullBath\n",
        "  * BedroomAbvGr\n",
        "  * TotRmsAbvGrd\n",
        "\n",
        "After you've created that list of features, use it to create the DataFrame that you'll use to fit the model."
      ],
      "metadata": {
        "id": "OwGkSXZF1yn2"
      }
    },
    {
      "cell_type": "code",
      "source": [
        "# Create the list of features below\n",
        "feature_names = ['LotArea', 'YearBuilt', '1stFlrSF', '2ndFlrSF', 'FullBath', 'BedroomAbvGr', 'TotRmsAbvGrd']\n",
        "\n",
        "# Select data corresponding to features in feature_names\n",
        "X = home_data[feature_names]\n",
        "\n",
        "# Check your answer\n",
        "step_2.check()"
      ],
      "metadata": {
        "id": "jfVwxrV52ymY"
      },
      "execution_count": null,
      "outputs": []
    },
    {
      "cell_type": "code",
      "source": [
        "# step_2.hint()\n",
        "# step_2.solution()"
      ],
      "metadata": {
        "id": "cy4ljnjqY89g"
      },
      "execution_count": null,
      "outputs": []
    },
    {
      "cell_type": "markdown",
      "source": [
        "## Review Data\n",
        "Before building a model, take a quick look at **X** to verify it looks sensible"
      ],
      "metadata": {
        "id": "gOXpu08nY-NY"
      }
    },
    {
      "cell_type": "code",
      "source": [
        "# Review data\n",
        "# print description or statistics from X\n",
        "print(X)\n",
        "\n",
        "# print the top few lines\n",
        "print(X.head)"
      ],
      "metadata": {
        "id": "joXJvjl_Y-iO"
      },
      "execution_count": null,
      "outputs": []
    },
    {
      "cell_type": "markdown",
      "source": [
        "## Step 3: Specify and Fit Model\n",
        "Create a `DecisionTreeRegressor` and save it iowa_model. Ensure you've done the relevant import from sklearn to run this command.\n",
        "\n",
        "Then fit the model you just created using the data in `X` and `y` that you saved above."
      ],
      "metadata": {
        "id": "vZajd1TajVVP"
      }
    },
    {
      "cell_type": "code",
      "source": [
        "from sklearn.tree import DecisionTreeRegressor\n",
        "#specify the model. \n",
        "#For model reproducibility, set a numeric value for random_state when specifying the model\n",
        "iowa_model = DecisionTreeRegressor(random_state = 1)\n",
        "\n",
        "# Fit the model\n",
        "iowa_model.fit(X, y)\n",
        "\n",
        "# Check your answer\n",
        "step_3.check()"
      ],
      "metadata": {
        "id": "Um3KTY6djWhp"
      },
      "execution_count": null,
      "outputs": []
    },
    {
      "cell_type": "code",
      "source": [
        "# step_3.hint()\n",
        "# step_3.solution()"
      ],
      "metadata": {
        "id": "3Sg_shcIjXdc"
      },
      "execution_count": null,
      "outputs": []
    },
    {
      "cell_type": "markdown",
      "source": [
        "## Step 4: Make Predictions\n",
        "Make predictions with the model's `predict` command using `X` as the data. Save the results to a variable called `predictions`."
      ],
      "metadata": {
        "id": "swTzVS7MjZBT"
      }
    },
    {
      "cell_type": "code",
      "source": [
        "predictions = iowa_model.predict(X)\n",
        "print(predictions)\n",
        "\n",
        "# Check your answer\n",
        "step_4.check()"
      ],
      "metadata": {
        "id": "GdtI-Vhrjafm"
      },
      "execution_count": null,
      "outputs": []
    },
    {
      "cell_type": "code",
      "source": [
        "# step_4.hint()\n",
        "# step_4.solution()"
      ],
      "metadata": {
        "id": "WBKJG0vhjcPI"
      },
      "execution_count": null,
      "outputs": []
    },
    {
      "cell_type": "markdown",
      "source": [
        "## Think About Your Results\n",
        "\n",
        "Use the `head` method to compare the top few predictions to the actual home values (in `y`) for those same homes. Anything surprising?\n"
      ],
      "metadata": {
        "id": "mEzsZLmfjnrI"
      }
    },
    {
      "cell_type": "code",
      "source": [
        "# You can write code in this cell\n",
        "print(iowa_model.predict(X.head()))"
      ],
      "metadata": {
        "id": "t_iGauUMjpn1"
      },
      "execution_count": null,
      "outputs": []
    },
    {
      "cell_type": "markdown",
      "source": [
        "It's natural to ask how accurate the model's predictions will be and how you can improve that. That will be you're next step.\n",
        "\n",
        "# Keep Going\n",
        "\n",
        "You are ready for **[Model Validation](https://www.kaggle.com/dansbecker/model-validation).**\n"
      ],
      "metadata": {
        "id": "gAt5D9C1jq05"
      }
    },
    {
      "cell_type": "markdown",
      "source": [
        "---\n",
        "\n",
        "\n",
        "\n",
        "\n",
        "*Have questions or comments? Visit the [course discussion forum](https://www.kaggle.com/learn/intro-to-machine-learning/discussion) to chat with other learners.*"
      ],
      "metadata": {
        "id": "WjGHSsi_jsal"
      }
    }
  ]
}