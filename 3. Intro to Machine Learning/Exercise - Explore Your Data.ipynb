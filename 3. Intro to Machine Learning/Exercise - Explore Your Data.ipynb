{
  "nbformat": 4,
  "nbformat_minor": 0,
  "metadata": {
    "colab": {
      "provenance": []
    },
    "kernelspec": {
      "name": "python3",
      "display_name": "Python 3"
    },
    "language_info": {
      "name": "python"
    }
  },
  "cells": [
    {
      "cell_type": "markdown",
      "source": [
        "# **Exercise: Explore Your Data**"
      ],
      "metadata": {
        "id": "fUZQJ02B6Py5"
      }
    },
    {
      "cell_type": "markdown",
      "source": [
        "This exercise will test your ability to read a data file and understand statistics about the data.\n",
        "\n",
        "In later exercises, you will apply techniques to filter the data, build a machine learning model, and iteratively improve your model.\n",
        "\n",
        "The course examples use data from Melbourne. To ensure you can apply these techniques on your own, you will have to apply them to a new dataset (with house prices from Iowa).\n",
        "\n",
        "The exercises use a \"notebook\" coding environment.  In case you are unfamiliar with notebooks, we have a [90-second intro video](https://www.youtube.com/watch?v=4C2qMnaIKL4).\n",
        "\n",
        "# Exercises\n",
        "\n",
        "Run the following cell to set up code-checking, which will verify your work as you go."
      ],
      "metadata": {
        "id": "7BPBAyg8K0Op"
      }
    },
    {
      "cell_type": "code",
      "source": [
        "# Set up code checking\n",
        "from learntools.core import binder\n",
        "binder.bind(globals())\n",
        "from learntools.machine_learning.ex2 import *\n",
        "print(\"Setup Complete\")"
      ],
      "metadata": {
        "id": "sXI-X93gK3hB"
      },
      "execution_count": null,
      "outputs": []
    },
    {
      "cell_type": "markdown",
      "source": [
        "## Step 1: Loading Data\n",
        "Read the Iowa data file into a Pandas DataFrame called `home_data`."
      ],
      "metadata": {
        "id": "yTHHaHeaK37V"
      }
    },
    {
      "cell_type": "code",
      "source": [
        "import pandas as pd\n",
        "\n",
        "# Path of the file to read\n",
        "iowa_file_path = '../input/home-data-for-ml-course/train.csv'\n",
        "\n",
        "# Fill in the line below to read the file into a variable home_data\n",
        "home_data = pd.read_csv(iowa_file_path)\n",
        "\n",
        "# Call line below with no argument to check that you've loaded the data correctly\n",
        "step_1.check()"
      ],
      "metadata": {
        "id": "5fKMos8QK-Xf"
      },
      "execution_count": null,
      "outputs": []
    },
    {
      "cell_type": "code",
      "source": [
        "# Lines below will give you a hint or solution code\n",
        "#step_1.hint()\n",
        "#step_1.solution()"
      ],
      "metadata": {
        "id": "v1nvzDoaLAF3"
      },
      "execution_count": null,
      "outputs": []
    },
    {
      "cell_type": "markdown",
      "source": [
        "## Step 2: Review The Data\n",
        "Use the command you learned to view summary statistics of the data. Then fill in variables to answer the following questions"
      ],
      "metadata": {
        "id": "FrBfjuDYLB0u"
      }
    },
    {
      "cell_type": "code",
      "source": [
        "# Print summary statistics in next line\n",
        "home_data.describe()"
      ],
      "metadata": {
        "id": "tRM-LCa_LCKK"
      },
      "execution_count": null,
      "outputs": []
    },
    {
      "cell_type": "code",
      "source": [
        "# What is the average lot size (rounded to nearest integer)?\n",
        "avg_lot_size = 10517\n",
        "\n",
        "# As of today, how old is the newest home (current year - the date in which it was built)\n",
        "newest_home_age = 13\n",
        "\n",
        "# Checks your answers\n",
        "step_2.check()"
      ],
      "metadata": {
        "id": "O79MVP2DMYro"
      },
      "execution_count": null,
      "outputs": []
    },
    {
      "cell_type": "code",
      "source": [
        "# step_2.hint()\n",
        "# step_2.solution()"
      ],
      "metadata": {
        "id": "Q9NWOyWIMaMY"
      },
      "execution_count": null,
      "outputs": []
    },
    {
      "cell_type": "markdown",
      "source": [
        "## Think About Your Data\n",
        "\n",
        "The newest house in your data isn't that new.  A few potential explanations for this:\n",
        "1. They haven't built new houses where this data was collected.\n",
        "1. The data was collected a long time ago. Houses built after the data publication wouldn't show up.\n",
        "\n",
        "If the reason is explanation #1 above, does that affect your trust in the model you build with this data? What about if it is reason #2?\n",
        "\n",
        "How could you dig into the data to see which explanation is more plausible?\n",
        "\n",
        "Check out this **[discussion thread](https://www.kaggle.com/learn-forum/60581)** to see what others think or to add your ideas.\n",
        "\n",
        "# Keep Going\n",
        "\n",
        "You are ready for **[Your First Machine Learning Model](https://www.kaggle.com/dansbecker/your-first-machine-learning-model).**\n"
      ],
      "metadata": {
        "id": "cy4OsCuKMbeM"
      }
    }
  ]
}