{
  "nbformat": 4,
  "nbformat_minor": 0,
  "metadata": {
    "colab": {
      "provenance": []
    },
    "kernelspec": {
      "name": "python3",
      "display_name": "Python 3"
    },
    "language_info": {
      "name": "python"
    }
  },
  "cells": [
    {
      "cell_type": "markdown",
      "source": [
        "# **Exercise: Data Types**"
      ],
      "metadata": {
        "id": "fUZQJ02B6Py5"
      }
    },
    {
      "cell_type": "markdown",
      "source": [
        "In the tutorial, you learned about four different data types: floats, integers, strings, and booleans.  In this exercise, you'll experiment with them.\n",
        "\n",
        "# Set up the notebook\n",
        "\n",
        "Run the next code cell without changes to set up the notebook."
      ],
      "metadata": {
        "id": "osGuEuv89NzR"
      }
    },
    {
      "cell_type": "code",
      "source": [
        "# Set up the exercise\n",
        "from learntools.core import binder\n",
        "binder.bind(globals())\n",
        "from learntools.intro_to_programming.ex3 import *\n",
        "print('Setup complete.')"
      ],
      "metadata": {
        "id": "a7Rdvyyz9T9X"
      },
      "execution_count": null,
      "outputs": []
    },
    {
      "cell_type": "markdown",
      "source": [
        "# Question 1\n",
        "\n",
        "You have seen how to convert a float to an integer with the `int` function.  Try this out yourself by running the code cell below."
      ],
      "metadata": {
        "id": "oBrGyZhZ9Uv4"
      }
    },
    {
      "cell_type": "code",
      "source": [
        "# Define a float\n",
        "y = 1.\n",
        "print(y)\n",
        "print(type(y))\n",
        "\n",
        "# Convert float to integer with the int function\n",
        "z = int(y)\n",
        "print(z)\n",
        "print(type(z))"
      ],
      "metadata": {
        "colab": {
          "base_uri": "https://localhost:8080/"
        },
        "id": "xRNM9Gwy9XQX",
        "outputId": "13af0c4a-63f3-4c6d-d92d-2a6e0b857a0d"
      },
      "execution_count": 2,
      "outputs": [
        {
          "output_type": "stream",
          "name": "stdout",
          "text": [
            "1.0\n",
            "<class 'float'>\n",
            "1\n",
            "<class 'int'>\n"
          ]
        }
      ]
    },
    {
      "cell_type": "markdown",
      "source": [
        "In this case, the float you are using has no numbers after the decimal.  \n",
        "- But what happens when you try to convert a float with a fractional part to an integer?  \n",
        "- How does the outcome of the `int` function change for positive and negative numbers?\n",
        "\n",
        "Use the next code cell to investigate and answer these questions.  Feel free to add or remove any lines of code -- it is your workspace!"
      ],
      "metadata": {
        "id": "BNwsZeyr9c5-"
      }
    },
    {
      "cell_type": "code",
      "source": [
        "# Uncomment and run this code to get started!\n",
        "print(int(1.2321))\n",
        "print(int(1.747))\n",
        "print(int(-3.94535))\n",
        "print(int(-2.19774))"
      ],
      "metadata": {
        "colab": {
          "base_uri": "https://localhost:8080/"
        },
        "id": "ZJB_Y5KA9huB",
        "outputId": "642bb4c2-5381-44ce-f363-302ce56e4245"
      },
      "execution_count": 3,
      "outputs": [
        {
          "output_type": "stream",
          "name": "stdout",
          "text": [
            "1\n",
            "1\n",
            "-3\n",
            "-2\n"
          ]
        }
      ]
    },
    {
      "cell_type": "markdown",
      "source": [
        "Once you have an answer, run the code cell below to see the solution.  Viewing the solution will give you credit for answering the problem."
      ],
      "metadata": {
        "id": "OQeoB3eN9mZc"
      }
    },
    {
      "cell_type": "code",
      "source": [
        "# Check your answer (Run this code cell to receive credit!)\n",
        "q1.check()"
      ],
      "metadata": {
        "id": "Kcdj27q79o_f"
      },
      "execution_count": null,
      "outputs": []
    },
    {
      "cell_type": "markdown",
      "source": [
        "# Question 2\n",
        "\n",
        "In the tutorial, you learned about booleans (which can take a value of `True` or `False`), in addition to integers, floats, and strings.  For this question, your goal is to determine what happens when you multiply a boolean by any of these data types.  Specifically, \n",
        "- What happens when you multiply an integer or float by `True`?  What happens when you multiply them by `False`?  How does the answer change if the numbers are positive or negative?\n",
        "- What happens when you multiply a string by `True`?  By `False`?\n",
        "\n",
        "Use the next code cell for your investigation. "
      ],
      "metadata": {
        "id": "0Y2ASGr-9qtf"
      }
    },
    {
      "cell_type": "code",
      "source": [
        "# Uncomment and run this code to get started!\n",
        "print(3 * True)\n",
        "print(-3.1 * True)\n",
        "print(type(\"abc\" * False))\n",
        "print(len(\"abc\" * False))"
      ],
      "metadata": {
        "colab": {
          "base_uri": "https://localhost:8080/"
        },
        "id": "E_KT4i3f9zkf",
        "outputId": "70218b35-82e8-4f20-d09e-442f86bbaa3d"
      },
      "execution_count": 4,
      "outputs": [
        {
          "output_type": "stream",
          "name": "stdout",
          "text": [
            "3\n",
            "-3.1\n",
            "<class 'str'>\n",
            "0\n"
          ]
        }
      ]
    },
    {
      "cell_type": "markdown",
      "source": [
        "Once you have an answer, run the code cell below to see the solution.  Viewing the solution will give you credit for answering the problem."
      ],
      "metadata": {
        "id": "RHTliU7891ZC"
      }
    },
    {
      "cell_type": "code",
      "source": [
        "# Check your answer (Run this code cell to receive credit!)\n",
        "q2.check()"
      ],
      "metadata": {
        "id": "IPZD_VRB935Y"
      },
      "execution_count": null,
      "outputs": []
    },
    {
      "cell_type": "markdown",
      "source": [
        "# Question 3\n",
        "\n",
        "In this question, you will build off your work from the previous exercise to write a function that estimates the value of a house.\n",
        "\n",
        "Use the next code cell to create a function `get_expected_cost` that takes as input three variables:\n",
        "- `beds` - number of bedrooms (data type float)\n",
        "- `baths` - number of bathrooms (data type float)\n",
        "- `has_basement` - whether or not the house has a basement (data type boolean)\n",
        "\n",
        "It should return the expected cost of a house with those characteristics. Assume that:\n",
        "- the expected cost for a house with 0 bedrooms and 0 bathrooms, and no basement is 80000, \n",
        "- each bedroom adds 30000 to the expected cost,\n",
        "- each bathroom adds 10000 to the expected cost, and\n",
        "- a basement adds 40000 to the expected cost.\n",
        "\n",
        "For instance,\n",
        "- a house with 1 bedroom, 1 bathroom, and no basement has an expected cost of 80000 + 30000 + 10000 = 120000.  This value will be calculated with `get_expected_cost(1, 1, False)`.\n",
        "- a house with 2 bedrooms, 1 bathroom, and a basement has an expected cost of 80000 + 2*30000 + 10000 + 40000 = 190000.  This value will be calculated with `get_expected_cost(2, 1, True)`.\n",
        "\n",
        "Remember you can always get a hint by uncommenting `q3.hint()` in the code cell following the next!"
      ],
      "metadata": {
        "id": "JVjVusbA97ls"
      }
    },
    {
      "cell_type": "code",
      "source": [
        "# TODO: Complete the function\n",
        "def get_expected_cost(beds, baths, has_basement):\n",
        "    value = 80000 + beds * 30000 + baths * 10000 + has_basement * 40000\n",
        "    return value\n",
        "\n",
        "# Check your answer \n",
        "q3.check()"
      ],
      "metadata": {
        "id": "7mMnqeJ4-P50"
      },
      "execution_count": null,
      "outputs": []
    },
    {
      "cell_type": "code",
      "source": [
        "# Uncomment to see a hint\n",
        "#q3.hint()\n",
        "\n",
        "# Uncomment to view the solution\n",
        "#q3.solution()"
      ],
      "metadata": {
        "id": "8Pxupht4-SxY"
      },
      "execution_count": null,
      "outputs": []
    },
    {
      "cell_type": "markdown",
      "source": [
        "# Question 4\n",
        "\n",
        "We'll continue our study of boolean arithmetic.  For this question, your task is to provide a description of what happpens when you add booleans. \n",
        "\n",
        "Use the next code cell for your investigation.  Feel free to add or remove any lines of code - use it as your workspace!"
      ],
      "metadata": {
        "id": "RWf9klg9-Uk4"
      }
    },
    {
      "cell_type": "code",
      "source": [
        "print(False + False)\n",
        "print(True + False)\n",
        "print(False + True)\n",
        "print(True + True)\n",
        "print(False + True + True + True)"
      ],
      "metadata": {
        "id": "Ffb4XJ0Y-XHi"
      },
      "execution_count": null,
      "outputs": []
    },
    {
      "cell_type": "markdown",
      "source": [
        "Once you have an answer, run the code cell below to see the solution.  Viewing the solution will give you credit for answering the problem."
      ],
      "metadata": {
        "id": "UrK24mm6-ZGX"
      }
    },
    {
      "cell_type": "code",
      "source": [
        "# Check your answer (Run this code cell to receive credit!)\n",
        "q4.check()"
      ],
      "metadata": {
        "id": "t-8shJez-fw1"
      },
      "execution_count": null,
      "outputs": []
    },
    {
      "cell_type": "markdown",
      "source": [
        "# 🌶️ Question 5\n",
        "\n",
        "You own an online shop where you sell rings with custom engravings.  You offer both gold plated and solid gold rings.\n",
        "- Gold plated rings have a base cost of \\\\$50, and you charge \\\\$7 per engraved unit.  \n",
        "- Solid gold rings have a base cost of \\\\$100, and you charge \\\\$10 per engraved unit.\n",
        "- Spaces and punctuation are counted as engraved units.\n",
        "\n",
        "Write a function `cost_of_project()` that takes two arguments:\n",
        "- `engraving` - a Python string with the text of the engraving\n",
        "- `solid_gold` - a Boolean that indicates whether the ring is solid gold\n",
        "\n",
        "It should return the cost of the project.  This question should be fairly challenging, and you may need a hint."
      ],
      "metadata": {
        "id": "gGTpTmAb-ix2"
      }
    },
    {
      "cell_type": "code",
      "source": [
        "def cost_of_project(engraving, solid_gold):\n",
        "    cost = solid_gold * (100 + 10 * len(engraving)) + (not solid_gold) * (50 + 7 * len(engraving))\n",
        "    return cost\n",
        "\n",
        "# Check your answer\n",
        "q5.check()"
      ],
      "metadata": {
        "id": "ycyhCR13-jU9"
      },
      "execution_count": null,
      "outputs": []
    },
    {
      "cell_type": "code",
      "source": [
        "# Uncomment to see a hint\n",
        "# q5.hint()\n",
        "\n",
        "# Uncomment to view the solution\n",
        "# q5.solution()"
      ],
      "metadata": {
        "id": "wQTdlfeBC47Y"
      },
      "execution_count": null,
      "outputs": []
    },
    {
      "cell_type": "markdown",
      "source": [
        "Run the next code cell to calculate the cost of engraving `Charlie+Denver` on a solid gold ring."
      ],
      "metadata": {
        "id": "4bIe31MKC8_b"
      }
    },
    {
      "cell_type": "code",
      "source": [
        "project_one = cost_of_project(\"Charlie+Denver\", True)\n",
        "print(project_one)"
      ],
      "metadata": {
        "id": "u5EUwq3FC_Kg"
      },
      "execution_count": null,
      "outputs": []
    },
    {
      "cell_type": "markdown",
      "source": [
        "Use the next code cell to calculate the cost of engraving `08/10/2000` on a gold plated ring."
      ],
      "metadata": {
        "id": "jiiS-Z2_C_sP"
      }
    },
    {
      "cell_type": "code",
      "source": [
        "project_two = cost_of_project(\"08/10/2000\", False)\n",
        "print(project_two)"
      ],
      "metadata": {
        "id": "d7m0tv3ZDDEl"
      },
      "execution_count": null,
      "outputs": []
    }
  ]
}