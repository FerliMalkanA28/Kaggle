{
  "nbformat": 4,
  "nbformat_minor": 0,
  "metadata": {
    "colab": {
      "provenance": []
    },
    "kernelspec": {
      "name": "python3",
      "display_name": "Python 3"
    },
    "language_info": {
      "name": "python"
    }
  },
  "cells": [
    {
      "cell_type": "markdown",
      "source": [
        "# **Exercise: Intro to Lists**"
      ],
      "metadata": {
        "id": "fUZQJ02B6Py5"
      }
    },
    {
      "cell_type": "markdown",
      "source": [
        "In the tutorial, you learned how to define and modify Python lists.  In this exercise, you will use your new knowledge to solve several problems.\n",
        "\n",
        "# Set up the notebook\n",
        "\n",
        "Run the next code cell without changes to set up the notebook."
      ],
      "metadata": {
        "id": "LLn1qXnV1j6R"
      }
    },
    {
      "cell_type": "code",
      "source": [
        "from learntools.core import binder\n",
        "binder.bind(globals())\n",
        "from learntools.intro_to_programming.ex5 import *\n",
        "print('Setup complete.')"
      ],
      "metadata": {
        "id": "fH1s1t8N5w2C"
      },
      "execution_count": null,
      "outputs": []
    },
    {
      "cell_type": "markdown",
      "source": [
        "# Question 1\n",
        "\n",
        "You own a restaurant with five food dishes, organized in the Python list `menu` below.  One day, you decide to:\n",
        "- remove bean soup (`'bean soup'`) from the menu, and\n",
        "- add roasted beet salad (`'roasted beet salad'`) to the menu.\n",
        "\n",
        "Implement this change to the list below.  While completing this task, \n",
        "- do not change the line that creates the `menu` list.  \n",
        "- your answer should use `.remove()` and `.append()`.  "
      ],
      "metadata": {
        "id": "32qbTJSu5yqr"
      }
    },
    {
      "cell_type": "code",
      "source": [
        "# Do not change: Initial menu for your restaurant\n",
        "menu = ['stewed meat with onions', 'bean soup', 'risotto with trout and shrimp',\n",
        "       'fish soup with cream and onion', 'gyro']\n",
        "\n",
        "# TODO: remove 'bean soup', and add 'roasted beet salad' to the end of the menu\n",
        "menu.remove(\"bean soup\")\n",
        "menu.append(\"roasted beet salad\")\n",
        "\n",
        "# Do not change: Check your answer\n",
        "q1.check()"
      ],
      "metadata": {
        "id": "wLuR7kM6CNDD"
      },
      "execution_count": null,
      "outputs": []
    },
    {
      "cell_type": "code",
      "source": [
        "# Uncomment to see a hint\n",
        "#q1.hint()\n",
        "\n",
        "# Uncomment to see the solution\n",
        "#q1.solution()"
      ],
      "metadata": {
        "id": "nS5KIR0-R7Ha"
      },
      "execution_count": null,
      "outputs": []
    },
    {
      "cell_type": "markdown",
      "source": [
        "# Question 2\n",
        "\n",
        "The list `num_customers` contains the number of customers who came into your restaurant every day over the last month (which lasted thirty days).  Fill in values for each of the following:\n",
        "- `avg_first_seven` - average number of customers who visited in the first seven days\n",
        "- `avg_last_seven` - average number of customers who visited in the last seven days\n",
        "- `max_month` - number of customers on the day that got the most customers in the last month\n",
        "- `min_month` - number of customers on the day that got the least customers in the last month\n",
        "\n",
        "Answer this question by writing code.  For instance, if you have to find the minimum value in a list, use `min()` instead of scanning for the smallest value and directly filling in a number."
      ],
      "metadata": {
        "id": "LYvEMi0BUVde"
      }
    },
    {
      "cell_type": "code",
      "source": [
        "# Do not change: Number of customers each day for the last month\n",
        "num_customers = [137, 147, 135, 128, 170, 174, 165, 146, 126, 159,\n",
        "                 141, 148, 132, 147, 168, 153, 170, 161, 148, 152,\n",
        "                 141, 151, 131, 149, 164, 163, 143, 143, 166, 171]\n",
        "\n",
        "# TODO: Fill in values for the variables below\n",
        "avg_first_seven = sum(num_customers[:7])/7 \n",
        "avg_last_seven = sum(num_customers[-7:])/7 \n",
        "max_month = max(num_customers)\n",
        "min_month = min(num_customers)\n",
        "\n",
        "# Do not change: Check your answer\n",
        "q2.check()"
      ],
      "metadata": {
        "id": "wrRVWjVQUWX4"
      },
      "execution_count": null,
      "outputs": []
    },
    {
      "cell_type": "code",
      "source": [
        "# Uncomment to see a hint\n",
        "#q2.hint()\n",
        "\n",
        "# Uncomment to see the solution\n",
        "#q2.solution()"
      ],
      "metadata": {
        "id": "4zT5GtITUX76"
      },
      "execution_count": null,
      "outputs": []
    },
    {
      "cell_type": "markdown",
      "source": [
        "# Question 3\n",
        "\n",
        "In the tutorial, we gave an example of a Python string with information that was better as a list."
      ],
      "metadata": {
        "id": "s3hWElRLUY3W"
      }
    },
    {
      "cell_type": "code",
      "source": [
        "flowers = \"pink primrose,hard-leaved pocket orchid,canterbury bells,sweet pea,english marigold,tiger lily,moon orchid,bird of paradise,monkshood,globe thistle\""
      ],
      "metadata": {
        "id": "zGLGi6NbUZYO"
      },
      "execution_count": null,
      "outputs": []
    },
    {
      "cell_type": "markdown",
      "source": [
        "You can actually use Python to quickly turn this string into a list with `.split()`.  In the parentheses, we need to provide the character should be used to mark the end of one list item and the beginning of another, and enclose it in quotation marks.  In this case, that character is a comma."
      ],
      "metadata": {
        "id": "IaqR82-gUbKi"
      }
    },
    {
      "cell_type": "code",
      "source": [
        " print(flowers.split(\",\"))"
      ],
      "metadata": {
        "id": "0Ti_8c9SU2s2"
      },
      "execution_count": null,
      "outputs": []
    },
    {
      "cell_type": "markdown",
      "source": [
        "Now it is your turn to try this out!  Create two Python lists:\n",
        "- `letters` should be a Python list where each entry is an uppercase letter of the English alphabet.  For instance, the first two entries should be `\"A\"` and `\"B\"`, and the final two entries should be `\"Y\"` and `\"Z\"`.  Use the string `alphabet` to create this list.\n",
        "- `address` should be a Python list where each row in `address` is a different item in the list.  Currently, each row in `address` is separated by a comma. "
      ],
      "metadata": {
        "id": "9qN6BfPdU326"
      }
    },
    {
      "cell_type": "code",
      "source": [
        "# DO not change: Define two Python strings\n",
        "alphabet = \"A.B.C.D.E.F.G.H.I.J.K.L.M.N.O.P.Q.R.S.T.U.V.W.X.Y.Z\"\n",
        "address = \"Mr. H. Potter,The cupboard under the Stairs,4 Privet Drive,Little Whinging,Surrey\"\n",
        "\n",
        "# TODO: Convert strings into Python lists\n",
        "letters = alphabet.split(\".\")\n",
        "formatted_address = address.split(\",\")\n",
        "\n",
        "# Do not change: Check your answer\n",
        "q3.check()"
      ],
      "metadata": {
        "id": "DA-rhRrgU5II"
      },
      "execution_count": null,
      "outputs": []
    },
    {
      "cell_type": "code",
      "source": [
        "# Uncomment to see a hint\n",
        "#q3.hint()\n",
        "\n",
        "# Uncomment to see the solution\n",
        "# q3.solution()"
      ],
      "metadata": {
        "id": "1-jcLjf9XPln"
      },
      "execution_count": null,
      "outputs": []
    },
    {
      "cell_type": "markdown",
      "source": [
        "# Question 4\n",
        "\n",
        "In the Python course, you'll learn all about **list comprehensions**, which allow you to create a list based on the values in another list.  In this question, you'll get a brief preview of how they work.\n",
        "\n",
        "Say we're working with the list below."
      ],
      "metadata": {
        "id": "q533jHbvXRA5"
      }
    },
    {
      "cell_type": "code",
      "source": [
        "test_ratings = [1, 2, 3, 4, 5]"
      ],
      "metadata": {
        "id": "Bi8YN_dmXRut"
      },
      "execution_count": null,
      "outputs": []
    },
    {
      "cell_type": "markdown",
      "source": [
        "Then we can use this list (`test_ratings`) to create a new list (`test_liked`) where each item has been turned into a boolean, depending on whether or not the item is greater than or equal to four."
      ],
      "metadata": {
        "id": "z57-GgDzXTqd"
      }
    },
    {
      "cell_type": "code",
      "source": [
        "test_liked = [i>=4 for i in test_ratings]\n",
        "print(test_liked)"
      ],
      "metadata": {
        "id": "vHjcvfBJXVDh"
      },
      "execution_count": null,
      "outputs": []
    },
    {
      "cell_type": "markdown",
      "source": [
        "In this question, you'll use this list comprehension to define a function `percentage_liked()` that takes one argument as input:\n",
        "- `ratings`: list of ratings that people gave to a movie, where each rating is a number between 1-5, inclusive\n",
        "\n",
        "We say someone liked the movie, if they gave a rating of either 4 or 5.  Your function should return the percentage of people who liked the movie.\n",
        "\n",
        "For instance, if we supply a value of `[1, 2, 3, 4, 5, 4, 5, 1]`, then 50% (4/8) of the people liked the movie, and the function should return `0.5`.\n",
        "\n",
        "Part of the function has already been completed for you.  You need only use `list_liked` to calculate `percentage_liked`."
      ],
      "metadata": {
        "id": "UXzZYThxXWkb"
      }
    },
    {
      "cell_type": "code",
      "source": [
        "\n",
        "def percentage_liked(ratings):\n",
        "    list_liked = [i>=4 for i in ratings]\n",
        "    # TODO: Complete the function\n",
        "    percentage_liked = sum(list_liked)/len(list_liked)\n",
        "    return percentage_liked\n",
        "\n",
        "# Do not change: should return 0.5\n",
        "percentage_liked([1, 2, 3, 4, 5, 4, 5, 1])\n",
        "\n",
        "# Do not change: Check your answer\n",
        "q4.check()"
      ],
      "metadata": {
        "id": "MlrXRExQXzmY"
      },
      "execution_count": null,
      "outputs": []
    },
    {
      "cell_type": "code",
      "source": [
        "# Uncomment to see a hint\n",
        "# q4.hint()\n",
        "\n",
        "# Uncomment to see the solution\n",
        "#q4.solution()"
      ],
      "metadata": {
        "id": "pwNV8PGKX0xG"
      },
      "execution_count": null,
      "outputs": []
    },
    {
      "cell_type": "markdown",
      "source": [
        "# 🌶️ Question 5\n",
        " \n",
        "Say you're doing analytics for a website.  You need to write a function that returns the percentage growth in the total number of users relative to a specified number of years ago.\n",
        "\n",
        "Your function `percentage_growth()` should take two arguments as input:\n",
        "- `num_users` = Python list with the total number of users each year.  So `num_users[0]` is the total number of users in the first year, `num_users[1]` is the total number of users in the second year, and so on.  The final entry in the list gives the total number of users in the most recently completed year.\n",
        "- `yrs_ago` = number of years to go back in time when calculating the growth percentage\n",
        "\n",
        "For instance, say `num_users = [920344, 1043553, 1204334, 1458996, 1503323, 1593432, 1623463, 1843064, 1930992, 2001078]`.\n",
        "- if `yrs_ago = 1`, we want the function to return a value of about `0.036`. This corresponds to a percentage growth of approximately 3.6%, calculated as (2001078 - 1930992)/1930992.\n",
        "- if `years_ago = 7`, we would want to return approximately `0.66`.  This corresponds to a percentage growth of approximately 66%, calculated as (2001078 - 1204334)/1204334.\n",
        "\n",
        "Your coworker sent you a draft of a function, but it doesn't seem to be doing the correct calculation.  Can you figure out what has gone wrong and make the needed changes?"
      ],
      "metadata": {
        "id": "ZfuPe6hLX2y1"
      }
    },
    {
      "cell_type": "code",
      "source": [
        "# TODO: Edit the function\n",
        "def percentage_growth(num_users, yrs_ago):\n",
        "    growth = (num_users[len(num_users)-1] - num_users[len(num_users)-yrs_ago-1])/num_users[len(num_users)-yrs_ago-1]\n",
        "    return growth\n",
        "\n",
        "# Do not change: Variable for calculating some test examples\n",
        "num_users_test = [920344, 1043553, 1204334, 1458996, 1503323, 1593432, 1623463, 1843064, 1930992, 2001078]\n",
        "\n",
        "# Do not change: Should return .036\n",
        "print(percentage_growth(num_users_test, 1))\n",
        "\n",
        "# Do not change: Should return 0.66\n",
        "print(percentage_growth(num_users_test, 7))\n",
        "\n",
        "# Do not change: Check your answer\n",
        "q5.check()"
      ],
      "metadata": {
        "id": "uJGO0vxgX3Yc"
      },
      "execution_count": null,
      "outputs": []
    },
    {
      "cell_type": "code",
      "source": [
        "# Uncomment to see a hint\n",
        "# q5.hint()\n",
        "\n",
        "# Uncomment to see the solution\n",
        "# q5.solution()"
      ],
      "metadata": {
        "id": "DC35IVnfY8JY"
      },
      "execution_count": null,
      "outputs": []
    },
    {
      "cell_type": "markdown",
      "source": [
        "# Congratulations!\n",
        "\n",
        "Congratulations for finishing the Intro to Programming course!  You should be proud of your very first steps with learning programming.  As next steps, we recommend taking:\n",
        "- the **[Python course](http://www.kaggle.com/learn/python)**, and \n",
        "- the **[Intro to Machine Learning course](https://www.kaggle.com/learn/intro-to-machine-learning)**."
      ],
      "metadata": {
        "id": "FhuDhE_oZBfj"
      }
    }
  ]
}