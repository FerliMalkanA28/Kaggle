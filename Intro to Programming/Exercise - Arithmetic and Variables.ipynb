{
  "nbformat": 4,
  "nbformat_minor": 0,
  "metadata": {
    "colab": {
      "provenance": []
    },
    "kernelspec": {
      "name": "python3",
      "display_name": "Python 3"
    },
    "language_info": {
      "name": "python"
    }
  },
  "cells": [
    {
      "cell_type": "markdown",
      "source": [
        "# **Exercise: Arithmetic and Variables**"
      ],
      "metadata": {
        "id": "fUZQJ02B6Py5"
      }
    },
    {
      "cell_type": "markdown",
      "source": [
        "This exercise will get you started with running your own code.  \n",
        "\n",
        "# Set up the notebook\n",
        "\n",
        "To begin, run the code in the next cell.\n",
        "- Begin by clicking inside the code cell.  \n",
        "- Click on the triangle (in the shape of a \"Play button\") that appears to the left of the code cell.\n",
        "- If your code was run sucessfully, you will see `Setup Complete` as output below the cell.\n",
        "\n",
        "Instead of clicking on the triangle, you can also run code by pressing Shift + Enter on your keyboard.  Try this now!  Nothing bad will happen if you run the code more than once."
      ],
      "metadata": {
        "id": "dUb_Te796TvU"
      }
    },
    {
      "cell_type": "code",
      "source": [
        "# Set up the exercise\n",
        "from learntools.core import binder\n",
        "binder.bind(globals())\n",
        "from learntools.intro_to_programming.ex1 import *\n",
        "print('Setup complete.')"
      ],
      "metadata": {
        "id": "WRMx5C1T6t8a"
      },
      "execution_count": null,
      "outputs": []
    },
    {
      "cell_type": "markdown",
      "source": [
        "The code above sets up the notebook so that it can check your answers in this exercise.  You should never modify this code.  (Otherwise, the notebook won't be able to verify that you have successfully completed the exercise.)\n",
        "\n",
        "After finishing all of the questions below, you'll see the exercise marked as complete on the [course page](http://www.kaggle.com/learn/intro-to-programming).  Once you complete all of the lessons, you'll get a course completion certificate!\n",
        "\n",
        "# Question 1\n",
        "\n",
        "Next, you will run some code from the tutorial, so you can see how it works for yourself.  Run the next code cell without changes."
      ],
      "metadata": {
        "id": "vSPbuzsV6x0t"
      }
    },
    {
      "cell_type": "code",
      "source": [
        "print(\"Hello, world!\")\n",
        "\n",
        "# DO NOT REMOVE: Mark this question as completed\n",
        "q1.check()"
      ],
      "metadata": {
        "id": "E3Q4nIB461HM"
      },
      "execution_count": null,
      "outputs": []
    },
    {
      "cell_type": "markdown",
      "source": [
        "You just ran code to print `Hello world!`, which you should see in the output above.\n",
        "\n",
        "The second line of code (`q1.check()`) checks your answer.  You should never modify this checking code; if you remove it, you won't get credit for completing the problem.\n",
        "\n",
        "# Question 2\n",
        "\n",
        "Now, you will print another message of your choosing.  To do this, change `print(\"Your message here!\")` to use a different message.  For instance, you might like to change it to something like:\n",
        "- `print(\"Good morning!\")`\n",
        "- `print(\"I am learning how to code :D\")`\n",
        "\n",
        "Or, you might like to see what happens if you write something like `print(\"3+4\")`.  Does it return 7, or does it just think of `\"3+4\"` as just another message?\n",
        "\n",
        "Make sure that your message is enclosed in quotation marks (`\"`), and the message itself does not use quotation marks. For instance, this will throw an error: `print(\"She said \"great job\" and gave me a high-five!\")` because the message contains quotation marks.  If you decide to take the Python course after completing this course, you will learn more about how to avoid this error in [Lesson 6](https://www.kaggle.com/colinmorris/strings-and-dictionaries).\n",
        "\n",
        "Feel free to try out multiple messages!"
      ],
      "metadata": {
        "id": "GVJJ6m7n65jY"
      }
    },
    {
      "cell_type": "code",
      "source": [
        "# TODO: Change the message\n",
        "print(\"Good morning!\")\n",
        "print(\"I am learning how to code :D\")\n",
        "\n",
        "# DO NOT REMOVE: Mark this question as completed \n",
        "q2.check()"
      ],
      "metadata": {
        "id": "27UO3GdU7Etu"
      },
      "execution_count": null,
      "outputs": []
    },
    {
      "cell_type": "markdown",
      "source": [
        "# Question 3\n",
        "\n",
        "As you learned in the tutorial, a comment in Python has a pound sign (`#`) in front of it, which tells Python to ignore the text after it.\n",
        "\n",
        "Putting a pound sign in front of a line of code will make Python ignore that code.  For instance, this line would be ignored by Python, and nothing would appear in the output:\n",
        "```python\n",
        "#print(1+2)\n",
        "```\n",
        "Removing the pound sign will make it so that you can run the code again. When we remove the pound sign in front of a line of code, we call this **uncommenting**.\n",
        "\n",
        "In this problem, you will uncomment two lines in the code cell below and view the output:\n",
        "- Remove the `#` in front of `q3.hint()`.  To avoid errors, do NOT remove the `#` in front of `# Uncomment to view hint`.  \n",
        "- Next, remove the `#` in front of `q3.solution()`.\n",
        "\n",
        "As in the previous questions, do not change the final line of code that marks your work as completed."
      ],
      "metadata": {
        "id": "p9P6qjQU7FYk"
      }
    },
    {
      "cell_type": "code",
      "source": [
        "# Uncomment to get a hint\n",
        "#q3.hint()\n",
        "\n",
        "# Uncomment to view solution\n",
        "#q3.solution()\n",
        "\n",
        "# DO NOT REMOVE: Check your answer\n",
        "q3.check()"
      ],
      "metadata": {
        "id": "uwnDu3jS7Jx6"
      },
      "execution_count": null,
      "outputs": []
    },
    {
      "cell_type": "markdown",
      "source": [
        "In the next question, and in most of the exercises in this course, you will have the option to uncomment to view hints and solutions.  Once you feel comfortable with uncommenting, continue to the next question.\n"
      ],
      "metadata": {
        "id": "iHX10nyl7Mvc"
      }
    },
    {
      "cell_type": "markdown",
      "source": [
        "# Question 4\n",
        "\n",
        "In the tutorial, you defined several variables to calculate the total number of seconds in a year.  Run the next code cell to do the calculation here."
      ],
      "metadata": {
        "id": "Kw6C3-YB7PAq"
      }
    },
    {
      "cell_type": "code",
      "source": [
        "# Create variables\n",
        "num_years = 4\n",
        "days_per_year = 365 \n",
        "hours_per_day = 24\n",
        "mins_per_hour = 60\n",
        "secs_per_min = 60\n",
        "\n",
        "# Calculate number of seconds in four years\n",
        "total_secs = secs_per_min * mins_per_hour * hours_per_day * days_per_year * num_years\n",
        "print(total_secs)"
      ],
      "metadata": {
        "id": "1ZOU1snU7Rf-"
      },
      "execution_count": null,
      "outputs": []
    },
    {
      "cell_type": "markdown",
      "source": [
        "Use the next code cell to:\n",
        "- Define a variable `births_per_min` and set it to 250.  (There are on average 250 babies born each minute.)\n",
        "- Define a variable `births_per_day` that contains the average number of babies born each day.  (To set the value of this variable, you should use `births_per_min` and some of the variables from the previous code cell.)\n",
        "\n",
        "Remember you can always get a hint if you need it!"
      ],
      "metadata": {
        "id": "McKHbzxB7Yun"
      }
    },
    {
      "cell_type": "code",
      "source": [
        "# TODO: Set the value of the births_per_min variable\n",
        "births_per_min = 250\n",
        "\n",
        "# TODO: Set the value of the births_per_day variable\n",
        "births_per_day = births_per_min * mins_per_hour * hours_per_day\n",
        "\n",
        "# DO NOT REMOVE: Check your answer\n",
        "q4.check()"
      ],
      "metadata": {
        "id": "OADI8NJs7cFi"
      },
      "execution_count": null,
      "outputs": []
    },
    {
      "cell_type": "code",
      "source": [
        "# Uncomment to get a hint\n",
        "#q4.hint()\n",
        "\n",
        "# Uncomment to view solution\n",
        "#q4.solution()"
      ],
      "metadata": {
        "id": "ehxmikFf7dn8"
      },
      "execution_count": null,
      "outputs": []
    },
    {
      "cell_type": "markdown",
      "source": [
        "# 🌶️ Question 5\n",
        "\n",
        "(Questions marked with a 🌶️ will be a little bit more challenging than the others!  Remember you can always get a hint or view the solution.)\n",
        "\n",
        "The [Titanic competition](https://www.kaggle.com/c/titanic) is Kaggle's most famous data science competition. In this competition, participants are challenged to build a machine learning model that can predict whether or not passengers survived the Titanic shipwreck, based on information like age, sex, family size, and ticket number.\n",
        "\n",
        "Run the next code cell without changes to load and preview the titanic data.\n",
        "\n",
        "Don't worry about the details of the code for now - the end result is just that the all of the titanic data has been loaded in a variable named `titanic_data`.  (In order to learn how to write this code yourself, you can take the [Python course](https://www.kaggle.com/learn/python) and then the [Pandas course](https://www.kaggle.com/learn/pandas).)"
      ],
      "metadata": {
        "id": "lqs0RiBz7fQk"
      }
    },
    {
      "cell_type": "code",
      "source": [
        "# Load the data from the titanic competition\n",
        "import pandas as pd\n",
        "titanic_data = pd.read_csv(\"../input/titanic/train.csv\")\n",
        "\n",
        "# Show the first five rows of the data\n",
        "titanic_data.head()"
      ],
      "metadata": {
        "id": "zSmtTeZB7kX1"
      },
      "execution_count": null,
      "outputs": []
    },
    {
      "cell_type": "markdown",
      "source": [
        "The data has a different row for each passenger.  \n",
        "\n",
        "The next code cell defines and prints the values of three variables:  \n",
        "- `total` = total number of passengers who boarded the ship\n",
        "- `survived` = number of passengers who survived the shipwreck\n",
        "- `minors` = number of passengers under 18 years of age\n",
        "\n",
        "Run the code cell without changes.  (Don't worry about the details of how these variables are calculated for now.  You can learn more about how to calculate these values in the [Pandas course](https://www.kaggle.com/learn/pandas).)"
      ],
      "metadata": {
        "id": "pwISJHaD7pKt"
      }
    },
    {
      "cell_type": "code",
      "source": [
        "# Number of total passengers\n",
        "total = len(titanic_data)\n",
        "print(total)\n",
        "\n",
        "# Number of passengers who survived\n",
        "survived = (titanic_data.Survived == 1).sum()\n",
        "print(survived)\n",
        "\n",
        "# Number of passengers under 18\n",
        "minors = (titanic_data.Age < 18).sum()\n",
        "print(minors)"
      ],
      "metadata": {
        "id": "Uamn1HSy7qU9"
      },
      "execution_count": null,
      "outputs": []
    },
    {
      "cell_type": "markdown",
      "source": [
        "So, \n",
        "- `total = 891` (there were 891 passengers on board the Titanic),\n",
        "- `survived = 342` (342 passengers survived), and \n",
        "- `minors = 113` (113 passengers were under the age of 18).\n",
        "\n",
        "In the code cell below, replace the underlines (`____`) with code to calculate the values for two more variables:\n",
        "- `survived_fraction` should be set to the fraction of passengers who survived the Titanic disaster.\n",
        "- `minors_fraction` should be the fraction of passengers who were minors (under the age of 18).\n",
        "\n",
        "For each variable, your answer should be a number between 0 and 1.  \n",
        "\n",
        "If you need a hint or want to view the solution, you can skip to the next code cell and uncomment the appropriate lines of code (`q5.hint()` and `q5.solution()`)."
      ],
      "metadata": {
        "id": "k7nj3P6j7tfP"
      }
    },
    {
      "cell_type": "code",
      "source": [
        "# TODO: Fill in the value of the survived_fraction variable\n",
        "survived_fraction = survived/total \n",
        "\n",
        "# Print the value of the variable\n",
        "print(survived_fraction)\n",
        "\n",
        "# TODO: Fill in the value of the minors_fraction variable\n",
        "minors_fraction = minors/total\n",
        "\n",
        "# Print the value of the variable\n",
        "print(minors_fraction)\n",
        "\n",
        "# DO NOT REMOVE: Check your answer\n",
        "q5.check()"
      ],
      "metadata": {
        "id": "eJYrP5807vYD"
      },
      "execution_count": null,
      "outputs": []
    },
    {
      "cell_type": "code",
      "source": [
        "# Uncomment to receive a hint\n",
        "# q5.hint()\n",
        "\n",
        "# Uncomment to view the solution\n",
        "# q5.solution()"
      ],
      "metadata": {
        "id": "3HinX8u07yJe"
      },
      "execution_count": null,
      "outputs": []
    }
  ]
}